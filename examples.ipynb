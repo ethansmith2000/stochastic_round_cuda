{
 "cells": [
  {
   "cell_type": "code",
   "execution_count": 1,
   "metadata": {},
   "outputs": [],
   "source": [
    "from stochastic_round.stochastic_ops import copy_stochastic_cuda_, copy_stochastic_\n",
    "from stochastic_round.stochastic_ops import add_stochastic_cuda_, add_stochastic_\n",
    "from stochastic_round.stochastic_ops import mul_stochastic_cuda_, mul_stochastic_\n",
    "from stochastic_round.stochastic_ops import div_stochastic_cuda_, div_stochastic_\n",
    "from stochastic_round.stochastic_ops import lerp_stochastic_cuda_, lerp_stochastic_\n",
    "from stochastic_round.stochastic_ops import addcmul_stochastic_cuda_, addcmul_stochastic_\n",
    "from stochastic_round.stochastic_ops import addcdiv_stochastic_cuda_, addcdiv_stochastic_\n",
    "import torch"
   ]
  },
  {
   "cell_type": "code",
   "execution_count": 2,
   "metadata": {},
   "outputs": [
    {
     "name": "stdout",
     "output_type": "stream",
     "text": [
      "tensor([[ 0.0000,  0.0000,  0.0000,  ...,  0.0000,  0.0000,  0.0000],\n",
      "        [ 0.0000,  0.0000,  0.0000,  ...,  0.0000,  0.0000,  0.0000],\n",
      "        [ 0.0000,  0.0000,  0.0000,  ...,  0.0000,  0.0000,  0.0000],\n",
      "        ...,\n",
      "        [ 0.0000,  0.0000,  0.0000,  ..., -0.0020,  0.0005,  0.0000],\n",
      "        [ 0.0039,  0.0000,  0.0000,  ...,  0.0039,  0.0000,  0.0005],\n",
      "        [ 0.0000,  0.0000,  0.0000,  ..., -0.0078,  0.0000,  0.0000]],\n",
      "       device='cuda:0', dtype=torch.bfloat16)\n"
     ]
    }
   ],
   "source": [
    "dim = 1024\n",
    "source = torch.randn(dim, dim, dtype=torch.float32, device='cuda')\n",
    "target_cuda = torch.randn(dim, dim, dtype=torch.bfloat16, device='cuda')\n",
    "target_reg = target_cuda.clone()\n",
    "\n",
    "copy_stochastic_cuda_(target_cuda, source)\n",
    "copy_stochastic_(target_reg, source)\n",
    "print(target_cuda - target_reg)\n",
    "\n"
   ]
  },
  {
   "cell_type": "code",
   "execution_count": 3,
   "metadata": {},
   "outputs": [
    {
     "name": "stdout",
     "output_type": "stream",
     "text": [
      "tensor([[0.0000, 0.0000, 0.0000,  ..., 0.0000, 0.0000, 0.0000],\n",
      "        [0.0000, 0.0000, 0.0000,  ..., 0.0000, 0.0000, 0.0000],\n",
      "        [0.0000, 0.0000, 0.0000,  ..., 0.0000, 0.0000, 0.0000],\n",
      "        ...,\n",
      "        [0.0000, 0.0000, 0.0000,  ..., 0.0000, 0.0000, 0.0000],\n",
      "        [0.0000, 0.0000, 0.0000,  ..., 0.0039, 0.0002, 0.0000],\n",
      "        [0.0000, 0.0000, 0.0078,  ..., 0.0000, 0.0000, 0.0000]],\n",
      "       device='cuda:0', dtype=torch.bfloat16)\n"
     ]
    }
   ],
   "source": [
    "dim = 1024\n",
    "source = torch.randn(dim, dim, dtype=torch.float32, device='cuda')\n",
    "target_cuda = torch.randn(dim, dim, dtype=torch.bfloat16, device='cuda')\n",
    "target_reg = target_cuda.clone()\n",
    "\n",
    "add_stochastic_cuda_(target_cuda, source)\n",
    "add_stochastic_(target_reg, source)\n",
    "print(target_cuda - target_reg)"
   ]
  },
  {
   "cell_type": "code",
   "execution_count": 4,
   "metadata": {},
   "outputs": [
    {
     "name": "stdout",
     "output_type": "stream",
     "text": [
      "tensor([[ 0.0000,  0.0000,  0.0000,  ...,  0.0000,  0.0000,  0.0000],\n",
      "        [ 0.0000,  0.0000,  0.0000,  ...,  0.0000,  0.0000,  0.0000],\n",
      "        [ 0.0000,  0.0000,  0.0000,  ...,  0.0000,  0.0000,  0.0000],\n",
      "        ...,\n",
      "        [ 0.0000,  0.0000, -0.0010,  ..., -0.0156,  0.0078,  0.0000],\n",
      "        [ 0.0000, -0.0078,  0.0000,  ...,  0.0000, -0.0078,  0.0000],\n",
      "        [ 0.0000,  0.0000, -0.0020,  ...,  0.0000,  0.0000,  0.0000]],\n",
      "       device='cuda:0', dtype=torch.bfloat16)\n"
     ]
    }
   ],
   "source": [
    "dim = 1024\n",
    "source = torch.randn(dim, dim, dtype=torch.float32, device='cuda')\n",
    "target_cuda = torch.randn(dim, dim, dtype=torch.bfloat16, device='cuda')\n",
    "target_reg = target_cuda.clone()\n",
    "\n",
    "mul_stochastic_cuda_(target_cuda, source)\n",
    "mul_stochastic_(target_reg, source)\n",
    "print(target_cuda - target_reg)"
   ]
  },
  {
   "cell_type": "code",
   "execution_count": 5,
   "metadata": {},
   "outputs": [
    {
     "name": "stdout",
     "output_type": "stream",
     "text": [
      "tensor([[ 0.0000,  0.0000,  0.0000,  ...,  0.0000,  0.0000,  0.0000],\n",
      "        [ 0.0000,  0.0000,  0.0000,  ...,  0.0000,  0.0000,  0.0000],\n",
      "        [ 0.0000,  0.0000,  0.0000,  ...,  0.0000,  0.0000,  0.0000],\n",
      "        ...,\n",
      "        [ 0.0000,  0.0000, -0.0039,  ...,  0.0000,  0.0000,  0.0010],\n",
      "        [-0.0039,  0.0000, -0.0039,  ...,  0.0000,  0.0078,  0.0000],\n",
      "        [ 0.0000,  0.0000,  0.0000,  ...,  0.0000,  0.0000,  0.0000]],\n",
      "       device='cuda:0', dtype=torch.bfloat16)\n"
     ]
    }
   ],
   "source": [
    "dim = 1024\n",
    "source = torch.randn(dim, dim, dtype=torch.float32, device='cuda')\n",
    "target_cuda = torch.randn(dim, dim, dtype=torch.bfloat16, device='cuda')\n",
    "target_reg = target_cuda.clone()\n",
    "\n",
    "div_stochastic_cuda_(target_cuda, source)\n",
    "div_stochastic_(target_reg, source)\n",
    "print(target_cuda - target_reg)\n"
   ]
  },
  {
   "cell_type": "code",
   "execution_count": 6,
   "metadata": {},
   "outputs": [
    {
     "name": "stdout",
     "output_type": "stream",
     "text": [
      "tensor([[ 0.0000,  0.0000,  0.0000,  ...,  0.0000,  0.0000,  0.0000],\n",
      "        [ 0.0000,  0.0000,  0.0000,  ...,  0.0000,  0.0000,  0.0000],\n",
      "        [ 0.0000,  0.0000,  0.0000,  ...,  0.0000,  0.0000,  0.0000],\n",
      "        ...,\n",
      "        [ 0.0000,  0.0000, -0.0039,  ...,  0.0000,  0.0039,  0.0000],\n",
      "        [ 0.0000,  0.0000,  0.0000,  ...,  0.0000,  0.0039,  0.0000],\n",
      "        [ 0.0000,  0.0000, -0.0039,  ...,  0.0000,  0.0000,  0.0078]],\n",
      "       device='cuda:0', dtype=torch.bfloat16)\n"
     ]
    }
   ],
   "source": [
    "dim = 1024\n",
    "source = torch.randn(dim, dim, dtype=torch.float32, device='cuda')\n",
    "target_cuda = torch.randn(dim, dim, dtype=torch.bfloat16, device='cuda')\n",
    "target_reg = target_cuda.clone()\n",
    "\n",
    "lerp_stochastic_cuda_(target_cuda, source, 0.5)\n",
    "lerp_stochastic_(target_reg, source, 0.5)\n",
    "print(target_cuda - target_reg)"
   ]
  },
  {
   "cell_type": "code",
   "execution_count": 7,
   "metadata": {},
   "outputs": [
    {
     "name": "stdout",
     "output_type": "stream",
     "text": [
      "tensor([[ 0.0000,  0.0000,  0.0000,  ...,  0.0000,  0.0000,  0.0000],\n",
      "        [ 0.0000,  0.0000,  0.0000,  ...,  0.0000,  0.0000,  0.0000],\n",
      "        [ 0.0000,  0.0000,  0.0000,  ...,  0.0000,  0.0000,  0.0000],\n",
      "        ...,\n",
      "        [ 0.0000,  0.0000, -0.0078,  ...,  0.0039, -0.0078,  0.0078],\n",
      "        [ 0.0000,  0.0000,  0.0078,  ...,  0.0000,  0.0000,  0.0000],\n",
      "        [ 0.0000, -0.0020,  0.0000,  ...,  0.0000,  0.0000,  0.0000]],\n",
      "       device='cuda:0', dtype=torch.bfloat16)\n"
     ]
    }
   ],
   "source": [
    "dim = 1024\n",
    "tensor1 = torch.randn(dim, dim, dtype=torch.float32, device='cuda')\n",
    "tensor2 = torch.randn(dim, dim, dtype=torch.float32, device='cuda')\n",
    "target_cuda = torch.randn(dim, dim, dtype=torch.bfloat16, device='cuda')\n",
    "target_reg = target_cuda.clone()\n",
    "\n",
    "addcmul_stochastic_cuda_(target_cuda, tensor1, tensor2, 0.5)\n",
    "addcmul_stochastic_(target_reg, tensor1, tensor2, 0.5)\n",
    "print(target_cuda - target_reg)\n"
   ]
  },
  {
   "cell_type": "code",
   "execution_count": 8,
   "metadata": {},
   "outputs": [
    {
     "name": "stdout",
     "output_type": "stream",
     "text": [
      "tensor([[ 0.0000,  0.0000,  0.0000,  ...,  0.0000,  0.0000,  0.0000],\n",
      "        [ 0.0000,  0.0000,  0.0000,  ...,  0.0000,  0.0000,  0.0000],\n",
      "        [ 0.0000,  0.0000,  0.0000,  ...,  0.0000,  0.0000,  0.0000],\n",
      "        ...,\n",
      "        [ 0.0000, -0.0039, -0.0078,  ...,  0.0000,  0.0039,  0.0156],\n",
      "        [ 0.0005,  0.0000,  0.0000,  ...,  0.0000,  0.0000, -0.0156],\n",
      "        [ 0.0000,  0.0000,  0.0039,  ...,  0.0000,  0.0000,  0.0000]],\n",
      "       device='cuda:0', dtype=torch.bfloat16)\n"
     ]
    }
   ],
   "source": [
    "dim = 1024\n",
    "tensor1 = torch.randn(dim, dim, dtype=torch.float32, device='cuda')\n",
    "tensor2 = torch.randn(dim, dim, dtype=torch.float32, device='cuda')\n",
    "target_cuda = torch.randn(dim, dim, dtype=torch.bfloat16, device='cuda')\n",
    "target_reg = target_cuda.clone()\n",
    "\n",
    "addcdiv_stochastic_cuda_(target_cuda, tensor1, tensor2, 0.5)\n",
    "addcdiv_stochastic_(target_reg, tensor1, tensor2, 0.5)\n",
    "print(target_cuda - target_reg)"
   ]
  },
  {
   "cell_type": "code",
   "execution_count": null,
   "metadata": {},
   "outputs": [],
   "source": []
  }
 ],
 "metadata": {
  "kernelspec": {
   "display_name": ".lambda",
   "language": "python",
   "name": "python3"
  },
  "language_info": {
   "codemirror_mode": {
    "name": "ipython",
    "version": 3
   },
   "file_extension": ".py",
   "mimetype": "text/x-python",
   "name": "python",
   "nbconvert_exporter": "python",
   "pygments_lexer": "ipython3",
   "version": "3.10.12"
  }
 },
 "nbformat": 4,
 "nbformat_minor": 2
}
